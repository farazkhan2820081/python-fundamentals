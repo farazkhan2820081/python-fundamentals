{
 "cells": [
  {
   "cell_type": "code",
   "execution_count": null,
   "id": "8be7d03e-4d62-4ac9-af55-d9fcb792afee",
   "metadata": {},
   "outputs": [],
   "source": [
    "jupyter notebook"
   ]
  },
  {
   "cell_type": "code",
   "execution_count": 4,
   "id": "2408bc9b-4902-42a0-af51-a8f41b607c42",
   "metadata": {},
   "outputs": [
    {
     "data": {
      "text/plain": [
       "2432390625920"
      ]
     },
     "execution_count": 4,
     "metadata": {},
     "output_type": "execute_result"
    }
   ],
   "source": [
    "name = \"faraz\"\n",
    "id(name)"
   ]
  },
  {
   "cell_type": "code",
   "execution_count": 5,
   "id": "ec70c10a-fe8f-4a4f-9b3a-dbab4e7013d0",
   "metadata": {},
   "outputs": [
    {
     "data": {
      "text/plain": [
       "2432390677488"
      ]
     },
     "execution_count": 5,
     "metadata": {},
     "output_type": "execute_result"
    }
   ],
   "source": [
    "name2 = \"khan\"\n",
    "id(name2)"
   ]
  },
  {
   "cell_type": "code",
   "execution_count": 6,
   "id": "e31f1bbd-c936-41ef-af99-b0303584ca7a",
   "metadata": {},
   "outputs": [
    {
     "data": {
      "text/plain": [
       "2432390683008"
      ]
     },
     "execution_count": 6,
     "metadata": {},
     "output_type": "execute_result"
    }
   ],
   "source": [
    "name3 = \"swati\"\n",
    "id(name3)"
   ]
  },
  {
   "cell_type": "code",
   "execution_count": 9,
   "id": "54b1b265-9846-4259-97ad-bbeb03e33409",
   "metadata": {},
   "outputs": [
    {
     "name": "stdout",
     "output_type": "stream",
     "text": [
      "name3: 2432388308768\n"
     ]
    }
   ],
   "source": [
    "name3 = \"swatii\"\n",
    "id(name3)\n",
    "print(\"name3:\",id(name3))"
   ]
  },
  {
   "cell_type": "code",
   "execution_count": 10,
   "id": "d951b449-cc7b-40c2-8f15-5a7a56546394",
   "metadata": {},
   "outputs": [
    {
     "name": "stdout",
     "output_type": "stream",
     "text": [
      "khan\n"
     ]
    }
   ],
   "source": [
    "name = name2\n",
    "print(name)"
   ]
  },
  {
   "cell_type": "code",
   "execution_count": null,
   "id": "227aabd7-e6c7-409e-b820-efc3faaf7968",
   "metadata": {},
   "outputs": [],
   "source": [
    "name = \"faraz\"\n",
    "name1 = \"swati\"\n"
   ]
  },
  {
   "cell_type": "code",
   "execution_count": null,
   "id": "db8e6db2-06c0-45a5-9fed-a5ae7d092163",
   "metadata": {},
   "outputs": [],
   "source": [
    "x = 19 \n",
    "y = 120\n",
    "print(x+y)\n",
    "print(x-y)\n",
    "print(x"
   ]
  },
  {
   "cell_type": "code",
   "execution_count": null,
   "id": "c069ea04-a8b1-414f-9baf-107e8b077e0d",
   "metadata": {},
   "outputs": [],
   "source": [
    "age = 27 #assigment oprators"
   ]
  },
  {
   "cell_type": "code",
   "execution_count": 11,
   "id": "a021fb42-e081-4fdb-a161-07bfe6cac3f0",
   "metadata": {},
   "outputs": [
    {
     "name": "stdout",
     "output_type": "stream",
     "text": [
      "False\n",
      "True\n",
      "False\n",
      "True\n",
      "False\n",
      "True\n"
     ]
    }
   ],
   "source": [
    "age = 100 #comparegion oprator\n",
    "age1 = 120\n",
    "print(age==age1)\n",
    "print(age<age1)\n",
    "print(age>age1)\n",
    "print(age<=age1)\n",
    "print(age>=age1)\n",
    "print(age!=age1)\n"
   ]
  },
  {
   "cell_type": "code",
   "execution_count": 15,
   "id": "9aa18636-e11e-4fe9-a6cf-9623076c45f2",
   "metadata": {},
   "outputs": [
    {
     "name": "stdin",
     "output_type": "stream",
     "text": [
      "please enter your name 27\n"
     ]
    },
    {
     "name": "stdout",
     "output_type": "stream",
     "text": [
      "Hello, your age is 27.0\n"
     ]
    }
   ],
   "source": [
    "age = float(input(\"please enter your name\"))\n",
    "print(f\"Hello, your age is {age}\")"
   ]
  },
  {
   "cell_type": "code",
   "execution_count": null,
   "id": "2fd23c58-1f06-4838-afc8-db471a42b1f6",
   "metadata": {},
   "outputs": [],
   "source": []
  }
 ],
 "metadata": {
  "kernelspec": {
   "display_name": "Python 3 (ipykernel)",
   "language": "python",
   "name": "python3"
  },
  "language_info": {
   "codemirror_mode": {
    "name": "ipython",
    "version": 3
   },
   "file_extension": ".py",
   "mimetype": "text/x-python",
   "name": "python",
   "nbconvert_exporter": "python",
   "pygments_lexer": "ipython3",
   "version": "3.12.7"
  }
 },
 "nbformat": 4,
 "nbformat_minor": 5
}
