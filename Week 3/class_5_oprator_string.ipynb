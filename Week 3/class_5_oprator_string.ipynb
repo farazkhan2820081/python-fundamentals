{
  "nbformat": 4,
  "nbformat_minor": 0,
  "metadata": {
    "colab": {
      "provenance": []
    },
    "kernelspec": {
      "name": "python3",
      "display_name": "Python 3"
    },
    "language_info": {
      "name": "python"
    }
  },
  "cells": [
    {
      "cell_type": "markdown",
      "source": [
        "https://www.w3schools.com/python/python_operators.asp\n",
        "\n",
        "* Operation\n",
        "* operator\n",
        "* operents\n",
        "* In pythone world every thing is object specially operents\n",
        "* And objects always depand on 2 things (Methods, Atributes)\n",
        "* Methods are action\n",
        "* Atributes are the values we are getting from objects\n"
      ],
      "metadata": {
        "id": "BNh6Jj4Eb8dd"
      }
    },
    {
      "cell_type": "code",
      "source": [
        "\"1\" + \"1\""
      ],
      "metadata": {
        "colab": {
          "base_uri": "https://localhost:8080/",
          "height": 35
        },
        "id": "N-dMjHtufAo4",
        "outputId": "f3895b12-b852-4bed-90d1-9f7ea674f284"
      },
      "execution_count": 1,
      "outputs": [
        {
          "output_type": "execute_result",
          "data": {
            "text/plain": [
              "'11'"
            ],
            "application/vnd.google.colaboratory.intrinsic+json": {
              "type": "string"
            }
          },
          "metadata": {},
          "execution_count": 1
        }
      ]
    },
    {
      "cell_type": "markdown",
      "source": [
        "# Arthmatic Operators"
      ],
      "metadata": {
        "id": "6AOZxSyngMNn"
      }
    },
    {
      "cell_type": "code",
      "source": [
        "1 + 1"
      ],
      "metadata": {
        "colab": {
          "base_uri": "https://localhost:8080/"
        },
        "id": "VGjqn4l1fIAC",
        "outputId": "73aeb175-36e3-4723-ecb3-8976182e7ba0"
      },
      "execution_count": 2,
      "outputs": [
        {
          "output_type": "execute_result",
          "data": {
            "text/plain": [
              "2"
            ]
          },
          "metadata": {},
          "execution_count": 2
        }
      ]
    },
    {
      "cell_type": "code",
      "source": [
        "3 - 2"
      ],
      "metadata": {
        "colab": {
          "base_uri": "https://localhost:8080/"
        },
        "id": "ES16qC1MfL6S",
        "outputId": "d030c49a-fe56-4ed0-aa5a-f8e9f5478f1c"
      },
      "execution_count": 3,
      "outputs": [
        {
          "output_type": "execute_result",
          "data": {
            "text/plain": [
              "1"
            ]
          },
          "metadata": {},
          "execution_count": 3
        }
      ]
    },
    {
      "cell_type": "code",
      "source": [
        "3 * 2"
      ],
      "metadata": {
        "colab": {
          "base_uri": "https://localhost:8080/"
        },
        "id": "3BNdBBDRf3JS",
        "outputId": "39ae8a5a-31ff-4f73-cc96-6951e346ea80"
      },
      "execution_count": 4,
      "outputs": [
        {
          "output_type": "execute_result",
          "data": {
            "text/plain": [
              "6"
            ]
          },
          "metadata": {},
          "execution_count": 4
        }
      ]
    },
    {
      "cell_type": "code",
      "source": [
        "3 / 2"
      ],
      "metadata": {
        "colab": {
          "base_uri": "https://localhost:8080/"
        },
        "id": "fFGkKO1Pf6yh",
        "outputId": "3472c8bb-1199-4a34-91f4-8a65f88096ff"
      },
      "execution_count": 5,
      "outputs": [
        {
          "output_type": "execute_result",
          "data": {
            "text/plain": [
              "1.5"
            ]
          },
          "metadata": {},
          "execution_count": 5
        }
      ]
    },
    {
      "cell_type": "code",
      "source": [
        "3 // 2 # Its called floor devision they remove decimal values"
      ],
      "metadata": {
        "colab": {
          "base_uri": "https://localhost:8080/"
        },
        "id": "nSyDhjikf-Az",
        "outputId": "612f6e49-da39-4a44-a0bb-1451a7a6521c"
      },
      "execution_count": 6,
      "outputs": [
        {
          "output_type": "execute_result",
          "data": {
            "text/plain": [
              "1"
            ]
          },
          "metadata": {},
          "execution_count": 6
        }
      ]
    },
    {
      "cell_type": "code",
      "source": [
        "3 % 2 # The value will be reminder which remain after devision"
      ],
      "metadata": {
        "colab": {
          "base_uri": "https://localhost:8080/"
        },
        "id": "jObeaiL8guEW",
        "outputId": "9ab6893d-9649-4b95-b7ad-d23fd466b1a7"
      },
      "execution_count": 7,
      "outputs": [
        {
          "output_type": "execute_result",
          "data": {
            "text/plain": [
              "1"
            ]
          },
          "metadata": {},
          "execution_count": 7
        }
      ]
    },
    {
      "cell_type": "code",
      "source": [
        "2 ** 3 # exponential is like 2 * 2 * 2"
      ],
      "metadata": {
        "colab": {
          "base_uri": "https://localhost:8080/"
        },
        "id": "6xPvHqUMhHEx",
        "outputId": "9e5dab5a-bcbc-4a17-99a8-04622731a57f"
      },
      "execution_count": 9,
      "outputs": [
        {
          "output_type": "execute_result",
          "data": {
            "text/plain": [
              "8"
            ]
          },
          "metadata": {},
          "execution_count": 9
        }
      ]
    },
    {
      "cell_type": "markdown",
      "source": [
        " # Assign Operators"
      ],
      "metadata": {
        "id": "JxiPhmVSh_fW"
      }
    },
    {
      "cell_type": "code",
      "source": [
        "a = 4\n",
        "print(a)"
      ],
      "metadata": {
        "colab": {
          "base_uri": "https://localhost:8080/"
        },
        "id": "uDbngSdFiEJp",
        "outputId": "70803db4-1e8e-4756-fc59-63fb121d0b16"
      },
      "execution_count": 10,
      "outputs": [
        {
          "output_type": "stream",
          "name": "stdout",
          "text": [
            "4\n"
          ]
        }
      ]
    },
    {
      "cell_type": "code",
      "source": [
        "a = 5\n",
        "a = 2\n",
        "a = 7\n",
        "print(a)"
      ],
      "metadata": {
        "colab": {
          "base_uri": "https://localhost:8080/"
        },
        "id": "8xQw9b8diWiz",
        "outputId": "ed5bd977-93de-4585-bf01-9b0a87c506a7"
      },
      "execution_count": 11,
      "outputs": [
        {
          "output_type": "stream",
          "name": "stdout",
          "text": [
            "7\n"
          ]
        }
      ]
    },
    {
      "cell_type": "code",
      "source": [
        "a += 2\n",
        "print(a)"
      ],
      "metadata": {
        "colab": {
          "base_uri": "https://localhost:8080/"
        },
        "id": "uqOWHEp9ifwf",
        "outputId": "1eaade91-661e-4a15-bb50-27d6aa58a135"
      },
      "execution_count": 13,
      "outputs": [
        {
          "output_type": "stream",
          "name": "stdout",
          "text": [
            "11\n"
          ]
        }
      ]
    },
    {
      "cell_type": "code",
      "source": [
        "a += 2\n",
        "print(a)"
      ],
      "metadata": {
        "colab": {
          "base_uri": "https://localhost:8080/"
        },
        "id": "JWfVE0f9jgxb",
        "outputId": "be425a1f-ba3b-4c43-ea1f-548e5ba06669"
      },
      "execution_count": 14,
      "outputs": [
        {
          "output_type": "stream",
          "name": "stdout",
          "text": [
            "13\n"
          ]
        }
      ]
    },
    {
      "cell_type": "code",
      "source": [
        "a -= 2\n",
        "print(a)"
      ],
      "metadata": {
        "colab": {
          "base_uri": "https://localhost:8080/"
        },
        "id": "t7xjn4O9jx1g",
        "outputId": "d2dd91f9-ebf4-43e0-eed1-c38110522c6a"
      },
      "execution_count": 15,
      "outputs": [
        {
          "output_type": "stream",
          "name": "stdout",
          "text": [
            "11\n"
          ]
        }
      ]
    },
    {
      "cell_type": "code",
      "source": [
        "print(x := 3) # Assign print operator :="
      ],
      "metadata": {
        "colab": {
          "base_uri": "https://localhost:8080/"
        },
        "id": "xtSSOpkij4dM",
        "outputId": "88f7e567-d7aa-4702-e31b-dded1e49b47c"
      },
      "execution_count": 16,
      "outputs": [
        {
          "output_type": "stream",
          "name": "stdout",
          "text": [
            "3\n"
          ]
        }
      ]
    },
    {
      "cell_type": "markdown",
      "source": [
        "# Comparision Operators"
      ],
      "metadata": {
        "id": "A4CE82u9k8yy"
      }
    },
    {
      "cell_type": "code",
      "source": [
        "print(2==4)"
      ],
      "metadata": {
        "colab": {
          "base_uri": "https://localhost:8080/"
        },
        "id": "OP9Lw7GokYkB",
        "outputId": "98420527-b330-4692-813b-b8f0250094fe"
      },
      "execution_count": 17,
      "outputs": [
        {
          "output_type": "stream",
          "name": "stdout",
          "text": [
            "False\n"
          ]
        }
      ]
    },
    {
      "cell_type": "code",
      "source": [
        "print(2==2)"
      ],
      "metadata": {
        "colab": {
          "base_uri": "https://localhost:8080/"
        },
        "id": "Ls7ex9SAmB-r",
        "outputId": "ec2f847c-924a-4c76-f3e4-cbe2a465ce26"
      },
      "execution_count": 18,
      "outputs": [
        {
          "output_type": "stream",
          "name": "stdout",
          "text": [
            "True\n"
          ]
        }
      ]
    },
    {
      "cell_type": "code",
      "source": [
        "print(\"faraz\"==\"faraz\")"
      ],
      "metadata": {
        "colab": {
          "base_uri": "https://localhost:8080/"
        },
        "id": "Kz-G0fUhmGDu",
        "outputId": "901caf92-a27f-4aeb-8689-d01f376c40cc"
      },
      "execution_count": 20,
      "outputs": [
        {
          "output_type": "stream",
          "name": "stdout",
          "text": [
            "True\n"
          ]
        }
      ]
    },
    {
      "cell_type": "code",
      "source": [
        "\"faraz\" == \"khan\""
      ],
      "metadata": {
        "colab": {
          "base_uri": "https://localhost:8080/"
        },
        "id": "3eV4pN_smMI-",
        "outputId": "206b7b6e-ce3d-4770-8963-f402ce7e01e9"
      },
      "execution_count": 22,
      "outputs": [
        {
          "output_type": "execute_result",
          "data": {
            "text/plain": [
              "False"
            ]
          },
          "metadata": {},
          "execution_count": 22
        }
      ]
    },
    {
      "cell_type": "code",
      "source": [
        "2 != 2"
      ],
      "metadata": {
        "colab": {
          "base_uri": "https://localhost:8080/"
        },
        "id": "VB5X-dLTmbT4",
        "outputId": "ccb930b8-1e74-4018-acbd-e221bd451865"
      },
      "execution_count": 23,
      "outputs": [
        {
          "output_type": "execute_result",
          "data": {
            "text/plain": [
              "False"
            ]
          },
          "metadata": {},
          "execution_count": 23
        }
      ]
    },
    {
      "cell_type": "code",
      "source": [
        "2 != 3"
      ],
      "metadata": {
        "colab": {
          "base_uri": "https://localhost:8080/"
        },
        "id": "XINzr67Gm1mK",
        "outputId": "3cdb2f60-d75c-48d6-d18e-7f713b6d7751"
      },
      "execution_count": 24,
      "outputs": [
        {
          "output_type": "execute_result",
          "data": {
            "text/plain": [
              "True"
            ]
          },
          "metadata": {},
          "execution_count": 24
        }
      ]
    },
    {
      "cell_type": "code",
      "source": [
        "5 > 6"
      ],
      "metadata": {
        "colab": {
          "base_uri": "https://localhost:8080/"
        },
        "id": "rPkhI99am5g3",
        "outputId": "03787300-aa9f-48ea-8bea-f1790753cc48"
      },
      "execution_count": 25,
      "outputs": [
        {
          "output_type": "execute_result",
          "data": {
            "text/plain": [
              "False"
            ]
          },
          "metadata": {},
          "execution_count": 25
        }
      ]
    },
    {
      "cell_type": "code",
      "source": [
        "5 > 4"
      ],
      "metadata": {
        "colab": {
          "base_uri": "https://localhost:8080/"
        },
        "id": "1uf8B9YqnN8w",
        "outputId": "2c5ff21a-54ea-479e-825a-c55c737bc7dd"
      },
      "execution_count": 26,
      "outputs": [
        {
          "output_type": "execute_result",
          "data": {
            "text/plain": [
              "True"
            ]
          },
          "metadata": {},
          "execution_count": 26
        }
      ]
    },
    {
      "cell_type": "code",
      "source": [
        "5 < 6"
      ],
      "metadata": {
        "colab": {
          "base_uri": "https://localhost:8080/"
        },
        "id": "kllywKu-nQfn",
        "outputId": "c4cb8a1a-7dd3-4a32-e4e5-fa17e69f45f1"
      },
      "execution_count": 27,
      "outputs": [
        {
          "output_type": "execute_result",
          "data": {
            "text/plain": [
              "True"
            ]
          },
          "metadata": {},
          "execution_count": 27
        }
      ]
    },
    {
      "cell_type": "code",
      "source": [
        "5 < 4"
      ],
      "metadata": {
        "colab": {
          "base_uri": "https://localhost:8080/"
        },
        "id": "NQesloYAnTwk",
        "outputId": "e2828f11-8920-4b9f-c896-b617642e72e2"
      },
      "execution_count": 28,
      "outputs": [
        {
          "output_type": "execute_result",
          "data": {
            "text/plain": [
              "False"
            ]
          },
          "metadata": {},
          "execution_count": 28
        }
      ]
    },
    {
      "cell_type": "code",
      "source": [
        "5 < 5"
      ],
      "metadata": {
        "colab": {
          "base_uri": "https://localhost:8080/"
        },
        "id": "cPOwhgxFnXvL",
        "outputId": "3965c62e-dfce-4391-dd1a-accdc99f161f"
      },
      "execution_count": 29,
      "outputs": [
        {
          "output_type": "execute_result",
          "data": {
            "text/plain": [
              "False"
            ]
          },
          "metadata": {},
          "execution_count": 29
        }
      ]
    },
    {
      "cell_type": "code",
      "source": [
        "\"faraz\" < \"Faraz\""
      ],
      "metadata": {
        "colab": {
          "base_uri": "https://localhost:8080/"
        },
        "id": "OHzCJUTVnbqe",
        "outputId": "dc17302a-5864-4da6-d226-8f25386dbf54"
      },
      "execution_count": 31,
      "outputs": [
        {
          "output_type": "execute_result",
          "data": {
            "text/plain": [
              "False"
            ]
          },
          "metadata": {},
          "execution_count": 31
        }
      ]
    },
    {
      "cell_type": "code",
      "source": [
        "print(ord(\"f\"))\n",
        "print(ord(\"F\"))"
      ],
      "metadata": {
        "colab": {
          "base_uri": "https://localhost:8080/"
        },
        "id": "KPEm4rZfn9gg",
        "outputId": "8df99966-e7df-427b-b418-e389d48c453f"
      },
      "execution_count": 33,
      "outputs": [
        {
          "output_type": "stream",
          "name": "stdout",
          "text": [
            "102\n",
            "70\n"
          ]
        }
      ]
    },
    {
      "cell_type": "code",
      "source": [
        "\"f\" > \"F\""
      ],
      "metadata": {
        "colab": {
          "base_uri": "https://localhost:8080/"
        },
        "id": "4amnTGXNoV4w",
        "outputId": "fd6d8769-42a8-4cdd-945c-8d83a4bc734a"
      },
      "execution_count": 34,
      "outputs": [
        {
          "output_type": "execute_result",
          "data": {
            "text/plain": [
              "True"
            ]
          },
          "metadata": {},
          "execution_count": 34
        }
      ]
    },
    {
      "cell_type": "code",
      "source": [
        "5 >= 5"
      ],
      "metadata": {
        "colab": {
          "base_uri": "https://localhost:8080/"
        },
        "id": "Ma-fpRLBol02",
        "outputId": "828e4629-9b80-4f94-cfec-9ed70c32aef4"
      },
      "execution_count": 38,
      "outputs": [
        {
          "output_type": "execute_result",
          "data": {
            "text/plain": [
              "True"
            ]
          },
          "metadata": {},
          "execution_count": 38
        }
      ]
    },
    {
      "cell_type": "markdown",
      "source": [
        "# Logical Operators\n",
        "\n",
        "* In programing And is called Always\n",
        "* In programing Or is called Opetional\n",
        "* In programing Not is used for revsing true in to false and vise versa\n"
      ],
      "metadata": {
        "id": "-WyiJ5T-pWzC"
      }
    },
    {
      "cell_type": "code",
      "source": [
        "# True and True   and  True\n",
        "3 == 3 and 5 == 5 and 2 == 2"
      ],
      "metadata": {
        "colab": {
          "base_uri": "https://localhost:8080/"
        },
        "id": "E7dKQCXwo4s-",
        "outputId": "a238acb7-e08b-4199-a3a0-3ceea0ffce57"
      },
      "execution_count": 39,
      "outputs": [
        {
          "output_type": "execute_result",
          "data": {
            "text/plain": [
              "True"
            ]
          },
          "metadata": {},
          "execution_count": 39
        }
      ]
    },
    {
      "cell_type": "code",
      "source": [
        "print (True and True and True and True)\n",
        "print (False and True and True and True)\n",
        "print (False and False and True and True)\n"
      ],
      "metadata": {
        "colab": {
          "base_uri": "https://localhost:8080/"
        },
        "id": "kkHgl_ohrSfi",
        "outputId": "93d1d1da-48b2-424d-d66a-dc4edaed0006"
      },
      "execution_count": 41,
      "outputs": [
        {
          "output_type": "stream",
          "name": "stdout",
          "text": [
            "True\n",
            "False\n",
            "False\n"
          ]
        }
      ]
    },
    {
      "cell_type": "code",
      "source": [
        "print(3 == 3 or 5 == 5 or 2 == 2)\n",
        "print(3 == 5 or 5 == 5 and 2 == 2)\n",
        "print(3 == 5 and 5 == 3 or 2 == 3)"
      ],
      "metadata": {
        "colab": {
          "base_uri": "https://localhost:8080/"
        },
        "id": "doj32l_Ir89N",
        "outputId": "37c82768-3ef3-4cfb-8d6b-9415f4b3f617"
      },
      "execution_count": 43,
      "outputs": [
        {
          "output_type": "stream",
          "name": "stdout",
          "text": [
            "True\n",
            "True\n",
            "False\n"
          ]
        }
      ]
    },
    {
      "cell_type": "markdown",
      "source": [
        "# pemdas python\n",
        "* p stands for Parentheses\n",
        "* e stands for Exponents\n",
        "* m stands for multipication\n",
        "* d stands for devide\n",
        "* a stands for addision\n",
        "* s stands for substration"
      ],
      "metadata": {
        "id": "SLYQ-A9Jt1xC"
      }
    },
    {
      "cell_type": "code",
      "source": [
        "#         0\n",
        "#         0\n",
        "#         2\n",
        "2 + 2 * (2-2)"
      ],
      "metadata": {
        "colab": {
          "base_uri": "https://localhost:8080/"
        },
        "id": "vWWR-MTy3-9Q",
        "outputId": "5e441a1e-092f-44f0-d15b-3345c172b9ff"
      },
      "execution_count": 62,
      "outputs": [
        {
          "output_type": "execute_result",
          "data": {
            "text/plain": [
              "2"
            ]
          },
          "metadata": {},
          "execution_count": 62
        }
      ]
    },
    {
      "cell_type": "code",
      "source": [
        "(True or False or True) and True"
      ],
      "metadata": {
        "colab": {
          "base_uri": "https://localhost:8080/"
        },
        "id": "oCpIqYgYu57C",
        "outputId": "3399d574-0e19-413e-e5bd-6cf8ce45334e"
      },
      "execution_count": 48,
      "outputs": [
        {
          "output_type": "execute_result",
          "data": {
            "text/plain": [
              "True"
            ]
          },
          "metadata": {},
          "execution_count": 48
        }
      ]
    },
    {
      "cell_type": "code",
      "source": [
        "not 2 == 2"
      ],
      "metadata": {
        "colab": {
          "base_uri": "https://localhost:8080/"
        },
        "id": "AvXXJSDwvWtC",
        "outputId": "8c4a46df-0bdc-48d5-f55a-a4934496695f"
      },
      "execution_count": 49,
      "outputs": [
        {
          "output_type": "execute_result",
          "data": {
            "text/plain": [
              "False"
            ]
          },
          "metadata": {},
          "execution_count": 49
        }
      ]
    },
    {
      "cell_type": "code",
      "source": [
        "not 2 == 3"
      ],
      "metadata": {
        "colab": {
          "base_uri": "https://localhost:8080/"
        },
        "id": "UItLI5anwgXq",
        "outputId": "4e6977d3-c378-4738-93b9-309cc9a48132"
      },
      "execution_count": 50,
      "outputs": [
        {
          "output_type": "execute_result",
          "data": {
            "text/plain": [
              "True"
            ]
          },
          "metadata": {},
          "execution_count": 50
        }
      ]
    },
    {
      "cell_type": "markdown",
      "source": [
        "# Identity operators"
      ],
      "metadata": {
        "id": "MOB0tg06wwbv"
      }
    },
    {
      "cell_type": "code",
      "source": [
        "a = 5\n",
        "b = 5\n",
        "c = 5\n",
        "print(id(a), id(b), id(c))"
      ],
      "metadata": {
        "colab": {
          "base_uri": "https://localhost:8080/"
        },
        "id": "5-0Ry2WNwjSW",
        "outputId": "8601e51d-0908-4614-ba02-5b36750f65f7"
      },
      "execution_count": 52,
      "outputs": [
        {
          "output_type": "stream",
          "name": "stdout",
          "text": [
            "10750984 10750984 10750984\n"
          ]
        }
      ]
    },
    {
      "cell_type": "code",
      "source": [
        "a is b"
      ],
      "metadata": {
        "colab": {
          "base_uri": "https://localhost:8080/"
        },
        "id": "7CqPX59SxzHD",
        "outputId": "23308c82-818e-4d09-82cb-c05e0ed9e015"
      },
      "execution_count": 53,
      "outputs": [
        {
          "output_type": "execute_result",
          "data": {
            "text/plain": [
              "True"
            ]
          },
          "metadata": {},
          "execution_count": 53
        }
      ]
    },
    {
      "cell_type": "code",
      "source": [
        "a is not b"
      ],
      "metadata": {
        "colab": {
          "base_uri": "https://localhost:8080/"
        },
        "id": "pQGm9MKHzeyj",
        "outputId": "71cd693b-792f-4ca1-f3f9-2c72cd57d729"
      },
      "execution_count": 54,
      "outputs": [
        {
          "output_type": "execute_result",
          "data": {
            "text/plain": [
              "False"
            ]
          },
          "metadata": {},
          "execution_count": 54
        }
      ]
    },
    {
      "cell_type": "markdown",
      "source": [
        "# Membership Operators"
      ],
      "metadata": {
        "id": "UcJjH5ICztEL"
      }
    },
    {
      "cell_type": "code",
      "source": [
        "post = ''' Hi! This is Faraz\n",
        "My age is 27\n",
        "I am a SEO Expert'''\n",
        "print(post)\n",
        "print(\"SEO Expert\" in post)"
      ],
      "metadata": {
        "colab": {
          "base_uri": "https://localhost:8080/"
        },
        "id": "WasVyeqUzhV3",
        "outputId": "722c3edd-cb1c-4d75-b311-e6726cf692d1"
      },
      "execution_count": 55,
      "outputs": [
        {
          "output_type": "stream",
          "name": "stdout",
          "text": [
            " Hi! This is Faraz\n",
            "My age is 27 \n",
            "I am a SEO Expert\n",
            "True\n"
          ]
        }
      ]
    },
    {
      "cell_type": "code",
      "source": [
        "Names = [\"F\", \"D\", \"C\"]\n",
        "print('F' in Names)\n",
        "print(\"z\" not in Names)\n",
        "print(\"F\" not in Names)"
      ],
      "metadata": {
        "colab": {
          "base_uri": "https://localhost:8080/"
        },
        "id": "_UiW1xTL1W24",
        "outputId": "e9091e65-0261-4155-9631-ab9b342fca17"
      },
      "execution_count": 60,
      "outputs": [
        {
          "output_type": "stream",
          "name": "stdout",
          "text": [
            "True\n",
            "True\n",
            "False\n"
          ]
        }
      ]
    },
    {
      "cell_type": "markdown",
      "source": [
        "# String Data Types"
      ],
      "metadata": {
        "id": "u6gmgKia6vkc"
      }
    },
    {
      "cell_type": "code",
      "source": [
        "a = 'Faraz'\n",
        "b = \"Faraz\"\n",
        "c = '''Faraz'''\n",
        "d = \"\"\"Faraz\"\"\"\n",
        "print(type(a),type(b),type(c),type(d))\n",
        "print(id(a),id(b),id(c),id(d))"
      ],
      "metadata": {
        "colab": {
          "base_uri": "https://localhost:8080/"
        },
        "id": "pMMhF1us2Uv3",
        "outputId": "52340a60-a6a4-4d77-f8c1-68e16749ab4f"
      },
      "execution_count": 64,
      "outputs": [
        {
          "output_type": "stream",
          "name": "stdout",
          "text": [
            "<class 'str'> <class 'str'> <class 'str'> <class 'str'>\n",
            "137774263356592 137774263356592 137774263356592 137774263356592\n"
          ]
        }
      ]
    },
    {
      "cell_type": "code",
      "source": [
        "# prompt: print all methods of strings\n",
        "\n",
        "# Accessing all string methods\n",
        "string_methods = dir(str)\n",
        "\n",
        "# Filtering out dunder methods (methods with double underscores)\n",
        "string_methods = [method for method in string_methods if not method.startswith('__')]\n",
        "\n",
        "# Printing the methods\n",
        "for idx, method in enumerate(string_methods):\n",
        " print(idx , method)"
      ],
      "metadata": {
        "colab": {
          "base_uri": "https://localhost:8080/"
        },
        "id": "10CBNxxe7x6B",
        "outputId": "b2374890-706b-4bf6-b719-cccf7d2d6042"
      },
      "execution_count": 66,
      "outputs": [
        {
          "output_type": "stream",
          "name": "stdout",
          "text": [
            "0 capitalize\n",
            "1 casefold\n",
            "2 center\n",
            "3 count\n",
            "4 encode\n",
            "5 endswith\n",
            "6 expandtabs\n",
            "7 find\n",
            "8 format\n",
            "9 format_map\n",
            "10 index\n",
            "11 isalnum\n",
            "12 isalpha\n",
            "13 isascii\n",
            "14 isdecimal\n",
            "15 isdigit\n",
            "16 isidentifier\n",
            "17 islower\n",
            "18 isnumeric\n",
            "19 isprintable\n",
            "20 isspace\n",
            "21 istitle\n",
            "22 isupper\n",
            "23 join\n",
            "24 ljust\n",
            "25 lower\n",
            "26 lstrip\n",
            "27 maketrans\n",
            "28 partition\n",
            "29 removeprefix\n",
            "30 removesuffix\n",
            "31 replace\n",
            "32 rfind\n",
            "33 rindex\n",
            "34 rjust\n",
            "35 rpartition\n",
            "36 rsplit\n",
            "37 rstrip\n",
            "38 split\n",
            "39 splitlines\n",
            "40 startswith\n",
            "41 strip\n",
            "42 swapcase\n",
            "43 title\n",
            "44 translate\n",
            "45 upper\n",
            "46 zfill\n"
          ]
        }
      ]
    },
    {
      "cell_type": "code",
      "source": [
        "# prompt: print all attributes of srings excluding methods\n",
        "\n",
        "# Accessing all string attributes (excluding methods)\n",
        "string_attributes = dir(str)\n",
        "\n",
        "# Filtering out dunder attributes and methods\n",
        "string_attributes = [attr for attr in string_attributes if not attr.startswith('__') and not callable(getattr(str, attr))]\n",
        "\n",
        "# Printing the attributes\n",
        "for idx, attr in enumerate(string_attributes):\n",
        "  print(idx, attr)"
      ],
      "metadata": {
        "id": "yIJd3Ab79hfi"
      },
      "execution_count": 67,
      "outputs": []
    },
    {
      "cell_type": "code",
      "source": [
        "text = \"Faraz\"\n",
        "print(text)"
      ],
      "metadata": {
        "colab": {
          "base_uri": "https://localhost:8080/"
        },
        "id": "FGF_cMGA_ka3",
        "outputId": "deea817c-931b-409d-f8b7-dcf7b3867057"
      },
      "execution_count": 68,
      "outputs": [
        {
          "output_type": "stream",
          "name": "stdout",
          "text": [
            "Faraz\n"
          ]
        }
      ]
    },
    {
      "cell_type": "code",
      "source": [
        "text = \"Faraz\"\n",
        "# Rule for Methods\n",
        "# variable_name.method_name()\n",
        "# variable_name.attribute_name\n",
        "print(text.capitalize())\n",
        "print(text.casefold())\n",
        "print(text.center(10))\n",
        "print(text.count(\"a\"))\n",
        "print(text.encode())\n",
        "print(text.lower())\n",
        "print(text.upper())\n",
        "print(text.title())\n",
        "print(text)"
      ],
      "metadata": {
        "colab": {
          "base_uri": "https://localhost:8080/"
        },
        "id": "nZAvkZlWA2df",
        "outputId": "e995ba1d-ef8f-4325-fec6-c43a852679a8"
      },
      "execution_count": 71,
      "outputs": [
        {
          "output_type": "stream",
          "name": "stdout",
          "text": [
            "Faraz\n",
            "faraz\n",
            "  Faraz   \n",
            "2\n",
            "b'Faraz'\n",
            "faraz\n",
            "FARAZ\n",
            "Faraz\n",
            "Faraz\n"
          ]
        }
      ]
    },
    {
      "cell_type": "code",
      "source": [
        "names = (\"Faraz\", \"Faraz\", \"Faraz\")\n",
        "print(names)\n",
        "\" Dear, \".join(names)"
      ],
      "metadata": {
        "colab": {
          "base_uri": "https://localhost:8080/",
          "height": 53
        },
        "id": "7UUlCAoGLOuR",
        "outputId": "20af0aef-dcd2-4699-d5bb-9783638ffe38"
      },
      "execution_count": 75,
      "outputs": [
        {
          "output_type": "stream",
          "name": "stdout",
          "text": [
            "('Faraz', 'Faraz', 'Faraz')\n"
          ]
        },
        {
          "output_type": "execute_result",
          "data": {
            "text/plain": [
              "'Faraz Dear, Faraz Dear, Faraz'"
            ],
            "application/vnd.google.colaboratory.intrinsic+json": {
              "type": "string"
            }
          },
          "metadata": {},
          "execution_count": 75
        }
      ]
    },
    {
      "cell_type": "code",
      "source": [
        "# prompt: from os import name meaning\n",
        "\n",
        "# The `os.name` variable provides information about the operating system.\n",
        "\n",
        "# On Windows, `os.name` is typically 'nt'.\n",
        "# On macOS and Linux, it's usually 'posix'.\n",
        "\n",
        "# Example\n",
        "if name == 'nt':\n",
        "  print(\"Running on Windows\")\n",
        "elif name == 'posix':\n",
        "  print(\"Running on macOS or Linux\")\n",
        "else:\n",
        "  print(\"Running on an unknown operating system\")"
      ],
      "metadata": {
        "colab": {
          "base_uri": "https://localhost:8080/"
        },
        "id": "ZqyYZ4mqPIn9",
        "outputId": "a1d58945-c422-42bc-b38b-f20323545e4e"
      },
      "execution_count": 73,
      "outputs": [
        {
          "output_type": "stream",
          "name": "stdout",
          "text": [
            "Running on an unknown operating system\n"
          ]
        }
      ]
    },
    {
      "cell_type": "code",
      "source": [
        "card = '''\n",
        "PIAC Islamabad\n",
        "Federal Urdu University\n",
        "Name: \\tFaraz Khan\n",
        "Father Name: \\tSanwar Khan\n",
        "'''\n",
        "print(card)\n",
        "print(card.expandtabs(24))\n"
      ],
      "metadata": {
        "colab": {
          "base_uri": "https://localhost:8080/"
        },
        "id": "Cbo7IPyabLsN",
        "outputId": "a47bfbb2-0c3b-4f66-9746-368c956c7e01"
      },
      "execution_count": 2,
      "outputs": [
        {
          "output_type": "stream",
          "name": "stdout",
          "text": [
            " \n",
            "PIAC Islamabad\n",
            "Federal Urdu University\n",
            "Name: \tFaraz Khan\n",
            "Father Name: \tSanwar Khan\n",
            "\n",
            " \n",
            "PIAC Islamabad\n",
            "Federal Urdu University\n",
            "Name:                   Faraz Khan\n",
            "Father Name:            Sanwar Khan\n",
            "\n"
          ]
        }
      ]
    },
    {
      "cell_type": "code",
      "source": [
        "text = '''\n",
        "Pakistan {2+6}\n",
        "'''\n",
        "print(text)"
      ],
      "metadata": {
        "colab": {
          "base_uri": "https://localhost:8080/"
        },
        "id": "2TmNd5R4cxAX",
        "outputId": "d6151aeb-f0a5-4d86-df17-39820a5b97c9"
      },
      "execution_count": 3,
      "outputs": [
        {
          "output_type": "stream",
          "name": "stdout",
          "text": [
            "\n",
            "Pakistan {2+6}\n",
            "\n"
          ]
        }
      ]
    },
    {
      "cell_type": "code",
      "source": [
        "name = \"faraz\"\n",
        "text = f'''\n",
        "Pakistan {2+6}\n",
        "name list {name}\n",
        "'''\n",
        "print(text)"
      ],
      "metadata": {
        "colab": {
          "base_uri": "https://localhost:8080/"
        },
        "id": "g8-0vOgKd2lj",
        "outputId": "65bf4990-c4b9-4ef1-e553-91bbd7b6c2b1"
      },
      "execution_count": 9,
      "outputs": [
        {
          "output_type": "stream",
          "name": "stdout",
          "text": [
            "\n",
            "Pakistan 8\n",
            "name list faraz\n",
            "\n"
          ]
        }
      ]
    },
    {
      "cell_type": "markdown",
      "source": [
        "# Data Types Examples"
      ],
      "metadata": {
        "id": "8cZfs5fOghPa"
      }
    },
    {
      "cell_type": "code",
      "source": [
        "x = 7\n",
        "print(x)\n",
        "print(type(x))"
      ],
      "metadata": {
        "colab": {
          "base_uri": "https://localhost:8080/"
        },
        "id": "ExbP8aTleCLR",
        "outputId": "35465c7b-18ed-492c-c7fa-b98e37543e63"
      },
      "execution_count": 10,
      "outputs": [
        {
          "output_type": "stream",
          "name": "stdout",
          "text": [
            "7\n",
            "<class 'int'>\n"
          ]
        }
      ]
    },
    {
      "cell_type": "code",
      "source": [
        "x = 7.5\n",
        "print(x)\n",
        "print(type(x))"
      ],
      "metadata": {
        "colab": {
          "base_uri": "https://localhost:8080/"
        },
        "id": "lRFcwXLMgzjb",
        "outputId": "6217db7e-3c55-43b8-ac28-3463af0c6b2e"
      },
      "execution_count": 11,
      "outputs": [
        {
          "output_type": "stream",
          "name": "stdout",
          "text": [
            "7.5\n",
            "<class 'float'>\n"
          ]
        }
      ]
    },
    {
      "cell_type": "code",
      "source": [
        "x = \"7\"\n",
        "print(x)\n",
        "print(type(x))"
      ],
      "metadata": {
        "colab": {
          "base_uri": "https://localhost:8080/"
        },
        "id": "LVCMT3fQiQ4B",
        "outputId": "67a1b7cd-962b-43fe-8f56-b61d10f373fb"
      },
      "execution_count": 14,
      "outputs": [
        {
          "output_type": "stream",
          "name": "stdout",
          "text": [
            "7\n",
            "<class 'str'>\n"
          ]
        }
      ]
    },
    {
      "cell_type": "code",
      "source": [
        "x = {7,8,9,\"f\"}\n",
        "print(x)\n",
        "print(type(x))"
      ],
      "metadata": {
        "colab": {
          "base_uri": "https://localhost:8080/"
        },
        "id": "GwG4BLWdiVnj",
        "outputId": "421a8e58-f238-4439-dbbc-2a6231d92299"
      },
      "execution_count": 15,
      "outputs": [
        {
          "output_type": "stream",
          "name": "stdout",
          "text": [
            "{8, 9, 'f', 7}\n",
            "<class 'set'>\n"
          ]
        }
      ]
    },
    {
      "cell_type": "code",
      "source": [
        "x = (7,8,9,\"f\")\n",
        "print(x)\n",
        "print(type(x))"
      ],
      "metadata": {
        "colab": {
          "base_uri": "https://localhost:8080/"
        },
        "id": "xjR2DBWnilG0",
        "outputId": "5ff8f0ad-575c-4c35-e21b-874bc2848f13"
      },
      "execution_count": 16,
      "outputs": [
        {
          "output_type": "stream",
          "name": "stdout",
          "text": [
            "(7, 8, 9, 'f')\n",
            "<class 'tuple'>\n"
          ]
        }
      ]
    },
    {
      "cell_type": "code",
      "source": [
        "x = [7,8,9,\"f\"]\n",
        "print(x)\n",
        "print(type(x))"
      ],
      "metadata": {
        "colab": {
          "base_uri": "https://localhost:8080/"
        },
        "id": "tx6X3qCkivWj",
        "outputId": "32004ded-e9ea-46bd-ed21-7e0a24b21b0f"
      },
      "execution_count": 17,
      "outputs": [
        {
          "output_type": "stream",
          "name": "stdout",
          "text": [
            "[7, 8, 9, 'f']\n",
            "<class 'list'>\n"
          ]
        }
      ]
    },
    {
      "cell_type": "code",
      "source": [],
      "metadata": {
        "id": "s-8tt8UPi43S"
      },
      "execution_count": null,
      "outputs": []
    }
  ]
}