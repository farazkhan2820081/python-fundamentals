{
  "nbformat": 4,
  "nbformat_minor": 0,
  "metadata": {
    "colab": {
      "provenance": []
    },
    "kernelspec": {
      "name": "python3",
      "display_name": "Python 3"
    },
    "language_info": {
      "name": "python"
    }
  },
  "cells": [
    {
      "cell_type": "markdown",
      "source": [
        "# Collection Data Type\n",
        "* Collection data type store more then one data type"
      ],
      "metadata": {
        "id": "-pkP3fET2ueR"
      }
    },
    {
      "cell_type": "markdown",
      "source": [
        "## Python List:\n",
        "* List are hitrogenous because they store different type of data in it\n",
        "* In other languges they are called arreys and arreys just store single type of data and also quantity of data is also fix\n",
        "* While in Python the quantity of data is not fix you can data in list until your ram stroage full."
      ],
      "metadata": {
        "id": "5x9-rC805PW4"
      }
    },
    {
      "cell_type": "code",
      "source": [
        "names = []\n",
        "print(names)\n",
        "print(type(names))"
      ],
      "metadata": {
        "colab": {
          "base_uri": "https://localhost:8080/"
        },
        "id": "nmO500pd223c",
        "outputId": "7cce443c-5599-478e-a865-7e0e33a65ef5"
      },
      "execution_count": null,
      "outputs": [
        {
          "output_type": "stream",
          "name": "stdout",
          "text": [
            "[]\n",
            "<class 'list'>\n"
          ]
        }
      ]
    },
    {
      "cell_type": "code",
      "source": [
        "names = [\"Faraz\", \"Khan\", \"Ali\", \"Zeeshan\", \"Fahad\"]\n",
        "print(names)"
      ],
      "metadata": {
        "colab": {
          "base_uri": "https://localhost:8080/"
        },
        "id": "sK3-BSdJ_xS8",
        "outputId": "f9f03173-32bc-42f7-cb4e-8781bb342ae7"
      },
      "execution_count": null,
      "outputs": [
        {
          "output_type": "stream",
          "name": "stdout",
          "text": [
            "['Faraz', 'Khan', 'Ali', 'Zeeshan', 'Fahad']\n"
          ]
        }
      ]
    },
    {
      "cell_type": "code",
      "source": [
        "names"
      ],
      "metadata": {
        "colab": {
          "base_uri": "https://localhost:8080/"
        },
        "id": "HeL6zxbGA6Xj",
        "outputId": "b24346d2-7fe4-4c4e-93bc-3755ef5fabb0"
      },
      "execution_count": null,
      "outputs": [
        {
          "output_type": "execute_result",
          "data": {
            "text/plain": [
              "['Faraz', 'Khan', 'Ali', 'Zeeshan', 'Fahad']"
            ]
          },
          "metadata": {},
          "execution_count": 4
        }
      ]
    },
    {
      "cell_type": "code",
      "source": [
        "names = [\"Faraz\", \"Khan\", \"Ali\", \"Zeeshan\", \"Fahad\",\n",
        "2, 6, 7, 13.66, True, False]\n",
        "print(len(names))\n",
        "print(names)\n"
      ],
      "metadata": {
        "colab": {
          "base_uri": "https://localhost:8080/"
        },
        "id": "5SHsXT1DBCTK",
        "outputId": "d8a574e6-ff88-4b3f-e2f1-06a6d1a7b370"
      },
      "execution_count": null,
      "outputs": [
        {
          "output_type": "stream",
          "name": "stdout",
          "text": [
            "11\n",
            "['Faraz', 'Khan', 'Ali', 'Zeeshan', 'Fahad', 2, 6, 7, 13.66, True, False]\n"
          ]
        }
      ]
    },
    {
      "cell_type": "code",
      "source": [
        "print(dir(names))"
      ],
      "metadata": {
        "colab": {
          "base_uri": "https://localhost:8080/"
        },
        "id": "MgL33eaxFAqe",
        "outputId": "baa4836c-362a-480f-f444-b89307b7e72e"
      },
      "execution_count": null,
      "outputs": [
        {
          "output_type": "stream",
          "name": "stdout",
          "text": [
            "['__add__', '__class__', '__class_getitem__', '__contains__', '__delattr__', '__delitem__', '__dir__', '__doc__', '__eq__', '__format__', '__ge__', '__getattribute__', '__getitem__', '__getstate__', '__gt__', '__hash__', '__iadd__', '__imul__', '__init__', '__init_subclass__', '__iter__', '__le__', '__len__', '__lt__', '__mul__', '__ne__', '__new__', '__reduce__', '__reduce_ex__', '__repr__', '__reversed__', '__rmul__', '__setattr__', '__setitem__', '__sizeof__', '__str__', '__subclasshook__', 'append', 'clear', 'copy', 'count', 'extend', 'index', 'insert', 'pop', 'remove', 'reverse', 'sort']\n"
          ]
        }
      ]
    },
    {
      "cell_type": "code",
      "source": [
        "biodata = [] # empty list\n",
        "print(biodata)\n",
        "biodata.append(\"Muhammad Faraz Khan\")\n",
        "biodata.append(27)\n",
        "biodata.append(\"BS microbiology\")\n",
        "print(biodata)"
      ],
      "metadata": {
        "colab": {
          "base_uri": "https://localhost:8080/"
        },
        "id": "DiKB546CGrNg",
        "outputId": "c722958c-0f1b-4680-8129-f52f9a05084d"
      },
      "execution_count": null,
      "outputs": [
        {
          "output_type": "stream",
          "name": "stdout",
          "text": [
            "[]\n",
            "['Muhammad Faraz Khan', 27, 'BS microbiology']\n"
          ]
        }
      ]
    },
    {
      "cell_type": "code",
      "source": [
        "names.append(\"Muhammad Faraz Khan\")\n",
        "print(names)\n",
        "print(len(names))"
      ],
      "metadata": {
        "colab": {
          "base_uri": "https://localhost:8080/"
        },
        "id": "H748qt-EIeR7",
        "outputId": "b955fe0c-0e1a-4275-f986-9af84e44aa76"
      },
      "execution_count": null,
      "outputs": [
        {
          "output_type": "stream",
          "name": "stdout",
          "text": [
            "['Faraz', 'Khan', 'Ali', 'Zeeshan', 'Fahad', 2, 6, 7, 13.66, True, False, 'Muhammad Faraz Khan']\n",
            "12\n"
          ]
        }
      ]
    },
    {
      "cell_type": "code",
      "source": [
        "# nested list\n",
        "# deminsionality of the list will increase when in list there is another list\n",
        "print(biodata)\n",
        "biodata.append([\"Faraz\",23,67])\n",
        "print(biodata)"
      ],
      "metadata": {
        "colab": {
          "base_uri": "https://localhost:8080/"
        },
        "id": "rbzc9dbZJX2m",
        "outputId": "ff2ba3dd-9e75-4712-9963-2daed79320b2"
      },
      "execution_count": null,
      "outputs": [
        {
          "output_type": "stream",
          "name": "stdout",
          "text": [
            "['Muhammad Faraz Khan', 27, 'BS microbiology', 'Faraz', ['Faraz']]\n",
            "['Muhammad Faraz Khan', 27, 'BS microbiology', 'Faraz', ['Faraz'], ['Faraz', 23, 67]]\n"
          ]
        }
      ]
    },
    {
      "cell_type": "code",
      "source": [
        "unis = [\n",
        "    [\"Nust\", \"Fast\", \"Air\"], [\"Peshawer\", \"Islamia\"],\n",
        "        [\n",
        "            [\"KU\", \"Iqra\", \"NED\"],\n",
        "             [\"DHA\",\"SZABT\",[1,2,3,[[1,2,3]]]]]\n",
        "\n",
        "            ]\n",
        "print(unis)"
      ],
      "metadata": {
        "colab": {
          "base_uri": "https://localhost:8080/"
        },
        "id": "33L52Ad8KCHV",
        "outputId": "1d533791-75f5-44db-bec3-94b5f8351229"
      },
      "execution_count": null,
      "outputs": [
        {
          "output_type": "stream",
          "name": "stdout",
          "text": [
            "[['Nust', 'Fast', 'Air'], ['Peshawer', 'Islamia'], [['KU', 'Iqra', 'NED'], ['DHA', 'SZABT', [1, 2, 3, [[1, 2, 3]]]]]]\n"
          ]
        }
      ]
    },
    {
      "cell_type": "code",
      "source": [
        "print(len(unis))"
      ],
      "metadata": {
        "colab": {
          "base_uri": "https://localhost:8080/"
        },
        "id": "bNQC9eMoPkq0",
        "outputId": "3776a37c-92ab-4d02-c19a-69b3b3c29960"
      },
      "execution_count": null,
      "outputs": [
        {
          "output_type": "stream",
          "name": "stdout",
          "text": [
            "3\n"
          ]
        }
      ]
    },
    {
      "cell_type": "code",
      "source": [
        "biodata = [\"Muhammad Faraz Khan\", 27, \"BS Microbiology\"]\n",
        "print(biodata)\n",
        "biodata.clear()\n",
        "print(biodata)"
      ],
      "metadata": {
        "id": "YN0rkq92QhaP",
        "colab": {
          "base_uri": "https://localhost:8080/"
        },
        "outputId": "5739d488-aa74-4703-88c9-2fc7fcb55eef"
      },
      "execution_count": 2,
      "outputs": [
        {
          "output_type": "stream",
          "name": "stdout",
          "text": [
            "['Muhammad Faraz Khan', 27, 'BS Microbiology']\n",
            "[]\n"
          ]
        }
      ]
    },
    {
      "cell_type": "code",
      "source": [
        "names = [\"Muhammad Faraz Khan\", 27, \"BS Microbiology\"]\n",
        "print(names)\n",
        "names.count(\"Muhammad Faraz Khan\")"
      ],
      "metadata": {
        "colab": {
          "base_uri": "https://localhost:8080/"
        },
        "id": "6rkWunEJhXqm",
        "outputId": "38933c0a-7b83-4340-e758-4f3e825f124c"
      },
      "execution_count": 4,
      "outputs": [
        {
          "output_type": "stream",
          "name": "stdout",
          "text": [
            "['Muhammad Faraz Khan', 27, 'BS Microbiology']\n"
          ]
        },
        {
          "output_type": "execute_result",
          "data": {
            "text/plain": [
              "1"
            ]
          },
          "metadata": {},
          "execution_count": 4
        }
      ]
    },
    {
      "cell_type": "code",
      "source": [
        "biodata = [\"Muhammad Faraz Khan\", 27, \"BS Microbiology\"]\n",
        "print(biodata)\n",
        "biodata.extend(names)\n",
        "print(biodata)\n",
        "print(len(biodata))\n"
      ],
      "metadata": {
        "colab": {
          "base_uri": "https://localhost:8080/"
        },
        "id": "846hGC5Qibiu",
        "outputId": "112676a8-310d-479b-eb39-b7bc2576c60c"
      },
      "execution_count": 7,
      "outputs": [
        {
          "output_type": "stream",
          "name": "stdout",
          "text": [
            "['Muhammad Faraz Khan', 27, 'BS Microbiology']\n",
            "['Muhammad Faraz Khan', 27, 'BS Microbiology', 'Muhammad Faraz Khan', 27, 'BS Microbiology']\n",
            "6\n"
          ]
        }
      ]
    },
    {
      "cell_type": "code",
      "source": [
        "biodata.pop() # remove last item from the list.\n",
        "print(biodata)"
      ],
      "metadata": {
        "colab": {
          "base_uri": "https://localhost:8080/"
        },
        "id": "Izsc6cOOjoop",
        "outputId": "5bfbf137-0149-4eec-fc8b-a70bde559ee1"
      },
      "execution_count": 9,
      "outputs": [
        {
          "output_type": "stream",
          "name": "stdout",
          "text": [
            "['Muhammad Faraz Khan', 27, 'BS Microbiology', 'Muhammad Faraz Khan']\n"
          ]
        }
      ]
    },
    {
      "cell_type": "code",
      "source": [
        "biodata.remove(\"BS Microbiology\") # remove item from the list\n",
        "print(biodata)"
      ],
      "metadata": {
        "colab": {
          "base_uri": "https://localhost:8080/"
        },
        "id": "XJmHUM32lE7B",
        "outputId": "b1a2fc29-a82f-4541-f3a8-2bd3fafd612a"
      },
      "execution_count": 10,
      "outputs": [
        {
          "output_type": "stream",
          "name": "stdout",
          "text": [
            "['Muhammad Faraz Khan', 27, 'Muhammad Faraz Khan']\n"
          ]
        }
      ]
    },
    {
      "cell_type": "code",
      "source": [
        "biodata_new = biodata.copy()\n",
        "print(biodata_new)"
      ],
      "metadata": {
        "colab": {
          "base_uri": "https://localhost:8080/"
        },
        "id": "lo0dXeqFo_uz",
        "outputId": "6ee6fd8c-7224-4fb3-9d1f-9d6ba928ed5b"
      },
      "execution_count": 11,
      "outputs": [
        {
          "output_type": "stream",
          "name": "stdout",
          "text": [
            "['Muhammad Faraz Khan', 27, 'Muhammad Faraz Khan']\n"
          ]
        }
      ]
    },
    {
      "cell_type": "code",
      "source": [
        "biodata_new.reverse()\n",
        "print(biodata_new)"
      ],
      "metadata": {
        "colab": {
          "base_uri": "https://localhost:8080/"
        },
        "id": "Se9xXEHVqoAk",
        "outputId": "7cc71260-738c-475f-af64-fff8aed14c4c"
      },
      "execution_count": 12,
      "outputs": [
        {
          "output_type": "stream",
          "name": "stdout",
          "text": [
            "['Muhammad Faraz Khan', 27, 'Muhammad Faraz Khan']\n"
          ]
        }
      ]
    },
    {
      "cell_type": "code",
      "source": [
        "numbers = [1,2,3,4,5,6,7,8,9,10,43,13,37,11]\n",
        "numbers.sort()\n",
        "print(numbers)"
      ],
      "metadata": {
        "colab": {
          "base_uri": "https://localhost:8080/"
        },
        "id": "yzKW60wyrciq",
        "outputId": "47f55ae3-74bf-4597-f254-e93485d8f1d9"
      },
      "execution_count": 13,
      "outputs": [
        {
          "output_type": "stream",
          "name": "stdout",
          "text": [
            "[1, 2, 3, 4, 5, 6, 7, 8, 9, 10, 11, 13, 37, 43]\n"
          ]
        }
      ]
    },
    {
      "cell_type": "code",
      "source": [
        "numbers = [1,2,3,4,5,6,7,8,9,10,43,13,37,11]\n",
        "numbers.sort(reverse= True)\n",
        "print(numbers)"
      ],
      "metadata": {
        "colab": {
          "base_uri": "https://localhost:8080/"
        },
        "id": "E-WcCYwxr5A9",
        "outputId": "d976c64a-2b84-42f6-c461-b9e25d8e77f9"
      },
      "execution_count": 14,
      "outputs": [
        {
          "output_type": "stream",
          "name": "stdout",
          "text": [
            "[43, 37, 13, 11, 10, 9, 8, 7, 6, 5, 4, 3, 2, 1]\n"
          ]
        }
      ]
    },
    {
      "cell_type": "code",
      "source": [
        "numbers[0] # List indexing is the position assign to the value in the list\n",
        "# indexing start from 0 position"
      ],
      "metadata": {
        "colab": {
          "base_uri": "https://localhost:8080/"
        },
        "id": "J1TLblbosTdG",
        "outputId": "5d6da0ed-067b-4b28-ab9f-c20604c517ef"
      },
      "execution_count": 17,
      "outputs": [
        {
          "output_type": "execute_result",
          "data": {
            "text/plain": [
              "43"
            ]
          },
          "metadata": {},
          "execution_count": 17
        }
      ]
    },
    {
      "cell_type": "code",
      "source": [
        "numbers[2] = 32\n",
        "print(numbers)"
      ],
      "metadata": {
        "colab": {
          "base_uri": "https://localhost:8080/"
        },
        "id": "5RudlcjJtcDK",
        "outputId": "edaf571b-6e06-47a4-ee9f-9b01e2e3efcc"
      },
      "execution_count": 18,
      "outputs": [
        {
          "output_type": "stream",
          "name": "stdout",
          "text": [
            "[43, 37, 32, 11, 10, 9, 8, 7, 6, 5, 4, 3, 2, 1]\n"
          ]
        }
      ]
    },
    {
      "cell_type": "code",
      "source": [
        "numbers.pop(3)\n",
        "print(numbers)"
      ],
      "metadata": {
        "colab": {
          "base_uri": "https://localhost:8080/"
        },
        "id": "eieoN5VSv6Y9",
        "outputId": "ead60f3c-2b72-4b97-c3f1-72cbbe2cc2bf"
      },
      "execution_count": 19,
      "outputs": [
        {
          "output_type": "stream",
          "name": "stdout",
          "text": [
            "[43, 37, 32, 10, 9, 8, 7, 6, 5, 4, 3, 2, 1]\n"
          ]
        }
      ]
    },
    {
      "cell_type": "code",
      "source": [
        "numbers[0:3] # if you want to take some chunk from list is called slising"
      ],
      "metadata": {
        "colab": {
          "base_uri": "https://localhost:8080/"
        },
        "id": "N_097dc_wlsu",
        "outputId": "33c19d0d-94fe-424e-efb4-a4615be10b6e"
      },
      "execution_count": 21,
      "outputs": [
        {
          "output_type": "execute_result",
          "data": {
            "text/plain": [
              "[43, 37, 32]"
            ]
          },
          "metadata": {},
          "execution_count": 21
        }
      ]
    },
    {
      "cell_type": "code",
      "source": [],
      "metadata": {
        "id": "rQCvCiJQxQ_Y"
      },
      "execution_count": null,
      "outputs": []
    }
  ]
}