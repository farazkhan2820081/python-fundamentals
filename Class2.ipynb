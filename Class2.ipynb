{
 "cells": [
  {
   "cell_type": "code",
   "execution_count": 2,
   "id": "fcdc1f4c-90b2-4936-81b4-31bf9ba850ec",
   "metadata": {},
   "outputs": [],
   "source": [
    "University = \"NED University\""
   ]
  },
  {
   "cell_type": "code",
   "execution_count": 3,
   "id": "1d404569-429d-4354-9682-14e413422640",
   "metadata": {},
   "outputs": [
    {
     "name": "stdout",
     "output_type": "stream",
     "text": [
      "NED University\n"
     ]
    }
   ],
   "source": [
    "print(University)"
   ]
  },
  {
   "cell_type": "code",
   "execution_count": 4,
   "id": "7d796963-a0ca-4668-82fb-db455bd3811e",
   "metadata": {},
   "outputs": [
    {
     "name": "stdout",
     "output_type": "stream",
     "text": [
      "<class 'str'>\n"
     ]
    }
   ],
   "source": [
    "print(type(University))"
   ]
  },
  {
   "cell_type": "code",
   "execution_count": 5,
   "id": "deedfb7b-c669-4602-b5fa-3393a405a1f5",
   "metadata": {},
   "outputs": [
    {
     "name": "stdout",
     "output_type": "stream",
     "text": [
      "['__add__', '__class__', '__contains__', '__delattr__', '__dir__', '__doc__', '__eq__', '__format__', '__ge__', '__getattribute__', '__getitem__', '__getnewargs__', '__getstate__', '__gt__', '__hash__', '__init__', '__init_subclass__', '__iter__', '__le__', '__len__', '__lt__', '__mod__', '__mul__', '__ne__', '__new__', '__reduce__', '__reduce_ex__', '__repr__', '__rmod__', '__rmul__', '__setattr__', '__sizeof__', '__str__', '__subclasshook__', 'capitalize', 'casefold', 'center', 'count', 'encode', 'endswith', 'expandtabs', 'find', 'format', 'format_map', 'index', 'isalnum', 'isalpha', 'isascii', 'isdecimal', 'isdigit', 'isidentifier', 'islower', 'isnumeric', 'isprintable', 'isspace', 'istitle', 'isupper', 'join', 'ljust', 'lower', 'lstrip', 'maketrans', 'partition', 'removeprefix', 'removesuffix', 'replace', 'rfind', 'rindex', 'rjust', 'rpartition', 'rsplit', 'rstrip', 'split', 'splitlines', 'startswith', 'strip', 'swapcase', 'title', 'translate', 'upper', 'zfill']\n"
     ]
    }
   ],
   "source": [
    "print(dir(University))"
   ]
  },
  {
   "cell_type": "code",
   "execution_count": 6,
   "id": "1ae1887a-7e1b-494d-b50c-7ebc74707d68",
   "metadata": {},
   "outputs": [
    {
     "name": "stdout",
     "output_type": "stream",
     "text": [
      "<class 'bool'>\n",
      "True\n"
     ]
    }
   ],
   "source": [
    "uni_1 = True\n",
    "uni_2 = False\n",
    "print(type(uni_1))\n",
    "print(uni_1)"
   ]
  },
  {
   "cell_type": "code",
   "execution_count": 9,
   "id": "2dee71d9-ad2b-410a-a980-b5762d12938a",
   "metadata": {},
   "outputs": [
    {
     "name": "stdout",
     "output_type": "stream",
     "text": [
      "2025-01-04 17:34:54.124868\n",
      "<class 'datetime.datetime'>\n"
     ]
    }
   ],
   "source": [
    "import datetime\n",
    "Current_datetime = datetime.datetime.now()\n",
    "print(Current_datetime)\n",
    "print(type(Current_datetime))"
   ]
  },
  {
   "cell_type": "code",
   "execution_count": null,
   "id": "f42436c6-0923-4e3d-bbb3-6179596cfa8e",
   "metadata": {},
   "outputs": [],
   "source": []
  }
 ],
 "metadata": {
  "kernelspec": {
   "display_name": "Python 3 (ipykernel)",
   "language": "python",
   "name": "python3"
  },
  "language_info": {
   "codemirror_mode": {
    "name": "ipython",
    "version": 3
   },
   "file_extension": ".py",
   "mimetype": "text/x-python",
   "name": "python",
   "nbconvert_exporter": "python",
   "pygments_lexer": "ipython3",
   "version": "3.12.7"
  }
 },
 "nbformat": 4,
 "nbformat_minor": 5
}
